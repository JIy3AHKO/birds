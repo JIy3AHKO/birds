{
 "cells": [
  {
   "cell_type": "code",
   "execution_count": 32,
   "metadata": {},
   "outputs": [],
   "source": [
    "import pandas as pd\n",
    "import soundfile as sf\n",
    "import tqdm\n",
    "import numpy as np\n",
    "import glob"
   ]
  },
  {
   "cell_type": "code",
   "execution_count": 25,
   "metadata": {},
   "outputs": [],
   "source": [
    "fname = 'train_fp'\n",
    "d = pd.read_csv(f'/datasets/data/birds/{fname}.csv')"
   ]
  },
  {
   "cell_type": "code",
   "execution_count": 26,
   "metadata": {},
   "outputs": [
    {
     "name": "stderr",
     "output_type": "stream",
     "text": [
      "100%|██████████| 7781/7781 [03:24<00:00, 38.00it/s]\n"
     ]
    }
   ],
   "source": [
    "srs = []\n",
    "lens = []\n",
    "for x in tqdm.tqdm(d['recording_id']):\n",
    "    a, sr = sf.read(f'/datasets/data/birds/train/{x}.flac')\n",
    "    srs.append(sr)\n",
    "    lens.append(a.shape[0] / sr)"
   ]
  },
  {
   "cell_type": "code",
   "execution_count": 27,
   "metadata": {},
   "outputs": [],
   "source": [
    "d['sample_rate'] = srs\n",
    "d['audio_len'] = lens\n",
    "d['song_len'] = d['t_max'] - d['t_min']\n",
    "d['freq_range_size'] = d['f_max'] - d['f_min'] "
   ]
  },
  {
   "cell_type": "code",
   "execution_count": 28,
   "metadata": {},
   "outputs": [],
   "source": [
    "d.to_csv(f'/datasets/data/birds/{fname}_prep.csv', index=False)"
   ]
  },
  {
   "cell_type": "code",
   "execution_count": 14,
   "metadata": {},
   "outputs": [
    {
     "data": {
      "text/plain": [
       "array([60.])"
      ]
     },
     "execution_count": 14,
     "metadata": {},
     "output_type": "execute_result"
    }
   ],
   "source": [
    "d['lens'].unique()"
   ]
  },
  {
   "cell_type": "code",
   "execution_count": 33,
   "metadata": {},
   "outputs": [],
   "source": [
    "fs = glob.glob('/datasets/data/birds/test/*.flac')"
   ]
  },
  {
   "cell_type": "code",
   "execution_count": 36,
   "metadata": {},
   "outputs": [
    {
     "name": "stderr",
     "output_type": "stream",
     "text": [
      "100%|██████████| 1992/1992 [00:53<00:00, 37.35it/s]\n"
     ]
    }
   ],
   "source": [
    "srs = []\n",
    "lens = []\n",
    "for x in tqdm.tqdm(fs):\n",
    "    a, sr = sf.read(f'{x}')\n",
    "    srs.append(sr)\n",
    "    lens.append(a.shape[0] / sr)"
   ]
  },
  {
   "cell_type": "code",
   "execution_count": 38,
   "metadata": {},
   "outputs": [
    {
     "data": {
      "text/plain": [
       "array([60.])"
      ]
     },
     "execution_count": 38,
     "metadata": {},
     "output_type": "execute_result"
    }
   ],
   "source": [
    "np.unique(lens)"
   ]
  },
  {
   "cell_type": "code",
   "execution_count": 39,
   "metadata": {},
   "outputs": [
    {
     "data": {
      "text/html": [
       "<div>\n",
       "<style scoped>\n",
       "    .dataframe tbody tr th:only-of-type {\n",
       "        vertical-align: middle;\n",
       "    }\n",
       "\n",
       "    .dataframe tbody tr th {\n",
       "        vertical-align: top;\n",
       "    }\n",
       "\n",
       "    .dataframe thead th {\n",
       "        text-align: right;\n",
       "    }\n",
       "</style>\n",
       "<table border=\"1\" class=\"dataframe\">\n",
       "  <thead>\n",
       "    <tr style=\"text-align: right;\">\n",
       "      <th></th>\n",
       "      <th>recording_id</th>\n",
       "      <th>species_id</th>\n",
       "      <th>songtype_id</th>\n",
       "      <th>t_min</th>\n",
       "      <th>f_min</th>\n",
       "      <th>t_max</th>\n",
       "      <th>f_max</th>\n",
       "      <th>sample_rate</th>\n",
       "      <th>audio_len</th>\n",
       "      <th>song_len</th>\n",
       "      <th>freq_range_size</th>\n",
       "    </tr>\n",
       "  </thead>\n",
       "  <tbody>\n",
       "    <tr>\n",
       "      <th>0</th>\n",
       "      <td>00204008d</td>\n",
       "      <td>21</td>\n",
       "      <td>1</td>\n",
       "      <td>13.8400</td>\n",
       "      <td>3281.2500</td>\n",
       "      <td>14.9333</td>\n",
       "      <td>4125.0000</td>\n",
       "      <td>48000</td>\n",
       "      <td>60.0</td>\n",
       "      <td>1.0933</td>\n",
       "      <td>843.7500</td>\n",
       "    </tr>\n",
       "    <tr>\n",
       "      <th>1</th>\n",
       "      <td>00204008d</td>\n",
       "      <td>8</td>\n",
       "      <td>1</td>\n",
       "      <td>24.4960</td>\n",
       "      <td>3750.0000</td>\n",
       "      <td>28.6187</td>\n",
       "      <td>5531.2500</td>\n",
       "      <td>48000</td>\n",
       "      <td>60.0</td>\n",
       "      <td>4.1227</td>\n",
       "      <td>1781.2500</td>\n",
       "    </tr>\n",
       "    <tr>\n",
       "      <th>2</th>\n",
       "      <td>00204008d</td>\n",
       "      <td>4</td>\n",
       "      <td>1</td>\n",
       "      <td>15.0027</td>\n",
       "      <td>2343.7500</td>\n",
       "      <td>16.8587</td>\n",
       "      <td>4218.7500</td>\n",
       "      <td>48000</td>\n",
       "      <td>60.0</td>\n",
       "      <td>1.8560</td>\n",
       "      <td>1875.0000</td>\n",
       "    </tr>\n",
       "    <tr>\n",
       "      <th>3</th>\n",
       "      <td>003b04435</td>\n",
       "      <td>22</td>\n",
       "      <td>1</td>\n",
       "      <td>43.2533</td>\n",
       "      <td>10687.5000</td>\n",
       "      <td>44.8587</td>\n",
       "      <td>13687.5000</td>\n",
       "      <td>48000</td>\n",
       "      <td>60.0</td>\n",
       "      <td>1.6054</td>\n",
       "      <td>3000.0000</td>\n",
       "    </tr>\n",
       "    <tr>\n",
       "      <th>4</th>\n",
       "      <td>003b04435</td>\n",
       "      <td>23</td>\n",
       "      <td>1</td>\n",
       "      <td>9.1254</td>\n",
       "      <td>7235.1562</td>\n",
       "      <td>15.2091</td>\n",
       "      <td>11283.3984</td>\n",
       "      <td>48000</td>\n",
       "      <td>60.0</td>\n",
       "      <td>6.0837</td>\n",
       "      <td>4048.2422</td>\n",
       "    </tr>\n",
       "    <tr>\n",
       "      <th>...</th>\n",
       "      <td>...</td>\n",
       "      <td>...</td>\n",
       "      <td>...</td>\n",
       "      <td>...</td>\n",
       "      <td>...</td>\n",
       "      <td>...</td>\n",
       "      <td>...</td>\n",
       "      <td>...</td>\n",
       "      <td>...</td>\n",
       "      <td>...</td>\n",
       "      <td>...</td>\n",
       "    </tr>\n",
       "    <tr>\n",
       "      <th>7776</th>\n",
       "      <td>ffd88cd84</td>\n",
       "      <td>14</td>\n",
       "      <td>1</td>\n",
       "      <td>3.2000</td>\n",
       "      <td>2531.2500</td>\n",
       "      <td>3.7867</td>\n",
       "      <td>5531.2500</td>\n",
       "      <td>48000</td>\n",
       "      <td>60.0</td>\n",
       "      <td>0.5867</td>\n",
       "      <td>3000.0000</td>\n",
       "    </tr>\n",
       "    <tr>\n",
       "      <th>7777</th>\n",
       "      <td>ffebe7313</td>\n",
       "      <td>1</td>\n",
       "      <td>1</td>\n",
       "      <td>35.2000</td>\n",
       "      <td>3843.7500</td>\n",
       "      <td>36.0960</td>\n",
       "      <td>5625.0000</td>\n",
       "      <td>48000</td>\n",
       "      <td>60.0</td>\n",
       "      <td>0.8960</td>\n",
       "      <td>1781.2500</td>\n",
       "    </tr>\n",
       "    <tr>\n",
       "      <th>7778</th>\n",
       "      <td>fff163132</td>\n",
       "      <td>17</td>\n",
       "      <td>4</td>\n",
       "      <td>22.5547</td>\n",
       "      <td>1312.5000</td>\n",
       "      <td>25.0880</td>\n",
       "      <td>7406.2500</td>\n",
       "      <td>48000</td>\n",
       "      <td>60.0</td>\n",
       "      <td>2.5333</td>\n",
       "      <td>6093.7500</td>\n",
       "    </tr>\n",
       "    <tr>\n",
       "      <th>7779</th>\n",
       "      <td>fff163132</td>\n",
       "      <td>14</td>\n",
       "      <td>1</td>\n",
       "      <td>37.0827</td>\n",
       "      <td>2531.2500</td>\n",
       "      <td>37.6693</td>\n",
       "      <td>5531.2500</td>\n",
       "      <td>48000</td>\n",
       "      <td>60.0</td>\n",
       "      <td>0.5866</td>\n",
       "      <td>3000.0000</td>\n",
       "    </tr>\n",
       "    <tr>\n",
       "      <th>7780</th>\n",
       "      <td>fffb79246</td>\n",
       "      <td>6</td>\n",
       "      <td>1</td>\n",
       "      <td>8.3573</td>\n",
       "      <td>562.5000</td>\n",
       "      <td>10.5013</td>\n",
       "      <td>4406.2500</td>\n",
       "      <td>48000</td>\n",
       "      <td>60.0</td>\n",
       "      <td>2.1440</td>\n",
       "      <td>3843.7500</td>\n",
       "    </tr>\n",
       "  </tbody>\n",
       "</table>\n",
       "<p>7781 rows × 11 columns</p>\n",
       "</div>"
      ],
      "text/plain": [
       "     recording_id  species_id  songtype_id    t_min       f_min    t_max  \\\n",
       "0       00204008d          21            1  13.8400   3281.2500  14.9333   \n",
       "1       00204008d           8            1  24.4960   3750.0000  28.6187   \n",
       "2       00204008d           4            1  15.0027   2343.7500  16.8587   \n",
       "3       003b04435          22            1  43.2533  10687.5000  44.8587   \n",
       "4       003b04435          23            1   9.1254   7235.1562  15.2091   \n",
       "...           ...         ...          ...      ...         ...      ...   \n",
       "7776    ffd88cd84          14            1   3.2000   2531.2500   3.7867   \n",
       "7777    ffebe7313           1            1  35.2000   3843.7500  36.0960   \n",
       "7778    fff163132          17            4  22.5547   1312.5000  25.0880   \n",
       "7779    fff163132          14            1  37.0827   2531.2500  37.6693   \n",
       "7780    fffb79246           6            1   8.3573    562.5000  10.5013   \n",
       "\n",
       "           f_max  sample_rate  audio_len  song_len  freq_range_size  \n",
       "0      4125.0000        48000       60.0    1.0933         843.7500  \n",
       "1      5531.2500        48000       60.0    4.1227        1781.2500  \n",
       "2      4218.7500        48000       60.0    1.8560        1875.0000  \n",
       "3     13687.5000        48000       60.0    1.6054        3000.0000  \n",
       "4     11283.3984        48000       60.0    6.0837        4048.2422  \n",
       "...          ...          ...        ...       ...              ...  \n",
       "7776   5531.2500        48000       60.0    0.5867        3000.0000  \n",
       "7777   5625.0000        48000       60.0    0.8960        1781.2500  \n",
       "7778   7406.2500        48000       60.0    2.5333        6093.7500  \n",
       "7779   5531.2500        48000       60.0    0.5866        3000.0000  \n",
       "7780   4406.2500        48000       60.0    2.1440        3843.7500  \n",
       "\n",
       "[7781 rows x 11 columns]"
      ]
     },
     "execution_count": 39,
     "metadata": {},
     "output_type": "execute_result"
    }
   ],
   "source": [
    "d"
   ]
  },
  {
   "cell_type": "code",
   "execution_count": null,
   "metadata": {},
   "outputs": [],
   "source": []
  }
 ],
 "metadata": {
  "kernelspec": {
   "display_name": "Python 3",
   "language": "python",
   "name": "python3"
  },
  "language_info": {
   "codemirror_mode": {
    "name": "ipython",
    "version": 3
   },
   "file_extension": ".py",
   "mimetype": "text/x-python",
   "name": "python",
   "nbconvert_exporter": "python",
   "pygments_lexer": "ipython3",
   "version": "3.8.5"
  }
 },
 "nbformat": 4,
 "nbformat_minor": 4
}
